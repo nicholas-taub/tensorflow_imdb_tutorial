{
 "cells": [
  {
   "cell_type": "code",
   "execution_count": 1,
   "metadata": {},
   "outputs": [
    {
     "name": "stderr",
     "output_type": "stream",
     "text": [
      "/Users/nicholastaub/anaconda/lib/python2.7/site-packages/h5py/__init__.py:34: FutureWarning: Conversion of the second argument of issubdtype from `float` to `np.floating` is deprecated. In future, it will be treated as `np.float64 == np.dtype(float).type`.\n",
      "  from ._conv import register_converters as _register_converters\n"
     ]
    }
   ],
   "source": [
    "import tensorflow as tf\n",
    "from tensorflow import keras\n",
    "import numpy as np"
   ]
  },
  {
   "cell_type": "code",
   "execution_count": 3,
   "metadata": {},
   "outputs": [],
   "source": [
    "imdb = keras.datasets.imdb"
   ]
  },
  {
   "cell_type": "code",
   "execution_count": 4,
   "metadata": {},
   "outputs": [
    {
     "name": "stdout",
     "output_type": "stream",
     "text": [
      "Downloading data from https://s3.amazonaws.com/text-datasets/imdb.npz\n",
      "17465344/17464789 [==============================] - 20s 1us/step\n",
      "17473536/17464789 [==============================] - 20s 1us/step\n"
     ]
    }
   ],
   "source": [
    "(train_data, train_labels), (test_data, test_labels) = imdb.load_data(num_words=10000)"
   ]
  },
  {
   "cell_type": "code",
   "execution_count": 5,
   "metadata": {},
   "outputs": [
    {
     "name": "stdout",
     "output_type": "stream",
     "text": [
      "Training entries: 25000, labels: 25000\n"
     ]
    }
   ],
   "source": [
    "print \"Training entries: {}, labels: {}\".format(len(train_data), len(train_labels))"
   ]
  },
  {
   "cell_type": "code",
   "execution_count": 6,
   "metadata": {},
   "outputs": [
    {
     "name": "stdout",
     "output_type": "stream",
     "text": [
      "[1, 14, 22, 16, 43, 530, 973, 1622, 1385, 65, 458, 4468, 66, 3941, 4, 173, 36, 256, 5, 25, 100, 43, 838, 112, 50, 670, 2, 9, 35, 480, 284, 5, 150, 4, 172, 112, 167, 2, 336, 385, 39, 4, 172, 4536, 1111, 17, 546, 38, 13, 447, 4, 192, 50, 16, 6, 147, 2025, 19, 14, 22, 4, 1920, 4613, 469, 4, 22, 71, 87, 12, 16, 43, 530, 38, 76, 15, 13, 1247, 4, 22, 17, 515, 17, 12, 16, 626, 18, 2, 5, 62, 386, 12, 8, 316, 8, 106, 5, 4, 2223, 5244, 16, 480, 66, 3785, 33, 4, 130, 12, 16, 38, 619, 5, 25, 124, 51, 36, 135, 48, 25, 1415, 33, 6, 22, 12, 215, 28, 77, 52, 5, 14, 407, 16, 82, 2, 8, 4, 107, 117, 5952, 15, 256, 4, 2, 7, 3766, 5, 723, 36, 71, 43, 530, 476, 26, 400, 317, 46, 7, 4, 2, 1029, 13, 104, 88, 4, 381, 15, 297, 98, 32, 2071, 56, 26, 141, 6, 194, 7486, 18, 4, 226, 22, 21, 134, 476, 26, 480, 5, 144, 30, 5535, 18, 51, 36, 28, 224, 92, 25, 104, 4, 226, 65, 16, 38, 1334, 88, 12, 16, 283, 5, 16, 4472, 113, 103, 32, 15, 16, 5345, 19, 178, 32]\n"
     ]
    }
   ],
   "source": [
    "print train_data[0]"
   ]
  },
  {
   "cell_type": "code",
   "execution_count": 7,
   "metadata": {},
   "outputs": [
    {
     "data": {
      "text/plain": [
       "(218, 189)"
      ]
     },
     "execution_count": 7,
     "metadata": {},
     "output_type": "execute_result"
    }
   ],
   "source": [
    "len(train_data[0]), len(train_data[1])"
   ]
  },
  {
   "cell_type": "code",
   "execution_count": 8,
   "metadata": {},
   "outputs": [
    {
     "name": "stdout",
     "output_type": "stream",
     "text": [
      "Downloading data from https://s3.amazonaws.com/text-datasets/imdb_word_index.json\n",
      "1646592/1641221 [==============================] - 1s 1us/step\n",
      "1654784/1641221 [==============================] - 1s 1us/step\n"
     ]
    }
   ],
   "source": [
    "# A dictionary mapping words to an integer index\n",
    "word_index = imdb.get_word_index()\n",
    "\n",
    "# The first indices are reserved\n",
    "word_index = {k:(v+3) for k,v in word_index.items()} \n",
    "word_index[\"<PAD>\"] = 0\n",
    "word_index[\"<START>\"] = 1\n",
    "word_index[\"<UNK>\"] = 2  # unknown\n",
    "word_index[\"<UNUSED>\"] = 3\n",
    "\n",
    "reverse_word_index = dict([(value, key) for (key, value) in word_index.items()])\n",
    "\n",
    "def decode_review(text):\n",
    "    return ' '.join([reverse_word_index.get(i, '?') for i in text])"
   ]
  },
  {
   "cell_type": "code",
   "execution_count": 9,
   "metadata": {},
   "outputs": [
    {
     "data": {
      "text/plain": [
       "u\"<START> this film was just brilliant casting location scenery story direction everyone's really suited the part they played and you could just imagine being there robert <UNK> is an amazing actor and now the same being director <UNK> father came from the same scottish island as myself so i loved the fact there was a real connection with this film the witty remarks throughout the film were great it was just brilliant so much that i bought the film as soon as it was released for <UNK> and would recommend it to everyone to watch and the fly fishing was amazing really cried at the end it was so sad and you know what they say if you cry at a film it must have been good and this definitely was also <UNK> to the two little boy's that played the <UNK> of norman and paul they were just brilliant children are often left out of the <UNK> list i think because the stars that play them all grown up are such a big profile for the whole film but these children are amazing and should be praised for what they have done don't you think the whole story was so lovely because it was true and was someone's life after all that was shared with us all\""
      ]
     },
     "execution_count": 9,
     "metadata": {},
     "output_type": "execute_result"
    }
   ],
   "source": [
    "decode_review(train_data[0])"
   ]
  },
  {
   "cell_type": "code",
   "execution_count": 10,
   "metadata": {
    "collapsed": true
   },
   "outputs": [],
   "source": [
    "train_data = keras.preprocessing.sequence.pad_sequences(train_data,\n",
    "                                                        value=word_index[\"<PAD>\"],\n",
    "                                                        padding='post',\n",
    "                                                        maxlen=256)\n",
    "\n",
    "test_data = keras.preprocessing.sequence.pad_sequences(test_data,\n",
    "                                                       value=word_index[\"<PAD>\"],\n",
    "                                                       padding='post',\n",
    "                                                       maxlen=256)"
   ]
  },
  {
   "cell_type": "code",
   "execution_count": 11,
   "metadata": {},
   "outputs": [
    {
     "data": {
      "text/plain": [
       "(256, 256)"
      ]
     },
     "execution_count": 11,
     "metadata": {},
     "output_type": "execute_result"
    }
   ],
   "source": [
    "len(train_data[0]), len(train_data[1])"
   ]
  },
  {
   "cell_type": "code",
   "execution_count": 12,
   "metadata": {},
   "outputs": [
    {
     "name": "stdout",
     "output_type": "stream",
     "text": [
      "[   1   14   22   16   43  530  973 1622 1385   65  458 4468   66 3941\n",
      "    4  173   36  256    5   25  100   43  838  112   50  670    2    9\n",
      "   35  480  284    5  150    4  172  112  167    2  336  385   39    4\n",
      "  172 4536 1111   17  546   38   13  447    4  192   50   16    6  147\n",
      " 2025   19   14   22    4 1920 4613  469    4   22   71   87   12   16\n",
      "   43  530   38   76   15   13 1247    4   22   17  515   17   12   16\n",
      "  626   18    2    5   62  386   12    8  316    8  106    5    4 2223\n",
      " 5244   16  480   66 3785   33    4  130   12   16   38  619    5   25\n",
      "  124   51   36  135   48   25 1415   33    6   22   12  215   28   77\n",
      "   52    5   14  407   16   82    2    8    4  107  117 5952   15  256\n",
      "    4    2    7 3766    5  723   36   71   43  530  476   26  400  317\n",
      "   46    7    4    2 1029   13  104   88    4  381   15  297   98   32\n",
      " 2071   56   26  141    6  194 7486   18    4  226   22   21  134  476\n",
      "   26  480    5  144   30 5535   18   51   36   28  224   92   25  104\n",
      "    4  226   65   16   38 1334   88   12   16  283    5   16 4472  113\n",
      "  103   32   15   16 5345   19  178   32    0    0    0    0    0    0\n",
      "    0    0    0    0    0    0    0    0    0    0    0    0    0    0\n",
      "    0    0    0    0    0    0    0    0    0    0    0    0    0    0\n",
      "    0    0    0    0]\n"
     ]
    }
   ],
   "source": [
    "print train_data[0]"
   ]
  },
  {
   "cell_type": "code",
   "execution_count": 13,
   "metadata": {},
   "outputs": [
    {
     "name": "stdout",
     "output_type": "stream",
     "text": [
      "_________________________________________________________________\n",
      "Layer (type)                 Output Shape              Param #   \n",
      "=================================================================\n",
      "embedding (Embedding)        (None, None, 16)          160000    \n",
      "_________________________________________________________________\n",
      "global_average_pooling1d (Gl (None, 16)                0         \n",
      "_________________________________________________________________\n",
      "dense (Dense)                (None, 16)                272       \n",
      "_________________________________________________________________\n",
      "dense_1 (Dense)              (None, 1)                 17        \n",
      "=================================================================\n",
      "Total params: 160,289\n",
      "Trainable params: 160,289\n",
      "Non-trainable params: 0\n",
      "_________________________________________________________________\n"
     ]
    }
   ],
   "source": [
    "# input shape is the vocabulary count used for the movie reviews (10,000 words)\n",
    "vocab_size = 10000\n",
    "\n",
    "model = keras.Sequential()\n",
    "model.add(keras.layers.Embedding(vocab_size, 16))\n",
    "model.add(keras.layers.GlobalAveragePooling1D())\n",
    "model.add(keras.layers.Dense(16, activation=tf.nn.relu))\n",
    "model.add(keras.layers.Dense(1, activation=tf.nn.sigmoid))\n",
    "\n",
    "model.summary()"
   ]
  },
  {
   "cell_type": "code",
   "execution_count": 14,
   "metadata": {
    "collapsed": true
   },
   "outputs": [],
   "source": [
    "model.compile(optimizer=tf.train.AdamOptimizer(),\n",
    "              loss='binary_crossentropy',\n",
    "              metrics=['accuracy'])"
   ]
  },
  {
   "cell_type": "code",
   "execution_count": 15,
   "metadata": {
    "collapsed": true
   },
   "outputs": [],
   "source": [
    "x_val = train_data[:10000]\n",
    "partial_x_train = train_data[10000:]\n",
    "\n",
    "y_val = train_labels[:10000]\n",
    "partial_y_train = train_labels[10000:]"
   ]
  },
  {
   "cell_type": "code",
   "execution_count": 16,
   "metadata": {},
   "outputs": [
    {
     "name": "stdout",
     "output_type": "stream",
     "text": [
      "Train on 15000 samples, validate on 10000 samples\n",
      "Epoch 1/40\n",
      "15000/15000 [==============================] - 1s 85us/step - loss: 0.6964 - acc: 0.5072 - val_loss: 0.6920 - val_acc: 0.5159\n",
      "Epoch 2/40\n",
      "15000/15000 [==============================] - 1s 54us/step - loss: 0.6899 - acc: 0.5390 - val_loss: 0.6891 - val_acc: 0.5637\n",
      "Epoch 3/40\n",
      "15000/15000 [==============================] - 1s 55us/step - loss: 0.6873 - acc: 0.5972 - val_loss: 0.6867 - val_acc: 0.5774\n",
      "Epoch 4/40\n",
      "15000/15000 [==============================] - 1s 62us/step - loss: 0.6839 - acc: 0.6281 - val_loss: 0.6831 - val_acc: 0.6093\n",
      "Epoch 5/40\n",
      "15000/15000 [==============================] - 1s 57us/step - loss: 0.6793 - acc: 0.6471 - val_loss: 0.6781 - val_acc: 0.6779\n",
      "Epoch 6/40\n",
      "15000/15000 [==============================] - 1s 57us/step - loss: 0.6735 - acc: 0.7101 - val_loss: 0.6721 - val_acc: 0.7137\n",
      "Epoch 7/40\n",
      "15000/15000 [==============================] - 1s 59us/step - loss: 0.6658 - acc: 0.7368 - val_loss: 0.6645 - val_acc: 0.7283\n",
      "Epoch 8/40\n",
      "15000/15000 [==============================] - 1s 57us/step - loss: 0.6548 - acc: 0.7517 - val_loss: 0.6523 - val_acc: 0.7314\n",
      "Epoch 9/40\n",
      "15000/15000 [==============================] - 1s 65us/step - loss: 0.6395 - acc: 0.7619 - val_loss: 0.6362 - val_acc: 0.7571\n",
      "Epoch 10/40\n",
      "15000/15000 [==============================] - 1s 63us/step - loss: 0.6199 - acc: 0.7803 - val_loss: 0.6161 - val_acc: 0.7640\n",
      "Epoch 11/40\n",
      "15000/15000 [==============================] - 1s 63us/step - loss: 0.5963 - acc: 0.7815 - val_loss: 0.5945 - val_acc: 0.7710\n",
      "Epoch 12/40\n",
      "15000/15000 [==============================] - 1s 76us/step - loss: 0.5695 - acc: 0.7969 - val_loss: 0.5674 - val_acc: 0.7874\n",
      "Epoch 13/40\n",
      "15000/15000 [==============================] - 1s 57us/step - loss: 0.5398 - acc: 0.8121 - val_loss: 0.5413 - val_acc: 0.7985\n",
      "Epoch 14/40\n",
      "15000/15000 [==============================] - 1s 51us/step - loss: 0.5104 - acc: 0.8227 - val_loss: 0.5146 - val_acc: 0.8100\n",
      "Epoch 15/40\n",
      "15000/15000 [==============================] - 1s 52us/step - loss: 0.4812 - acc: 0.8337 - val_loss: 0.4886 - val_acc: 0.8165\n",
      "Epoch 16/40\n",
      "15000/15000 [==============================] - 1s 47us/step - loss: 0.4539 - acc: 0.8437 - val_loss: 0.4649 - val_acc: 0.8274\n",
      "Epoch 17/40\n",
      "15000/15000 [==============================] - 1s 53us/step - loss: 0.4273 - acc: 0.8553 - val_loss: 0.4434 - val_acc: 0.8361\n",
      "Epoch 18/40\n",
      "15000/15000 [==============================] - 1s 53us/step - loss: 0.4037 - acc: 0.8652 - val_loss: 0.4236 - val_acc: 0.8429\n",
      "Epoch 19/40\n",
      "15000/15000 [==============================] - 1s 50us/step - loss: 0.3824 - acc: 0.8717 - val_loss: 0.4063 - val_acc: 0.8497\n",
      "Epoch 20/40\n",
      "15000/15000 [==============================] - 1s 47us/step - loss: 0.3633 - acc: 0.8790 - val_loss: 0.3914 - val_acc: 0.8549\n",
      "Epoch 21/40\n",
      "15000/15000 [==============================] - 1s 46us/step - loss: 0.3461 - acc: 0.8847 - val_loss: 0.3781 - val_acc: 0.8579\n",
      "Epoch 22/40\n",
      "15000/15000 [==============================] - 1s 47us/step - loss: 0.3308 - acc: 0.8881 - val_loss: 0.3668 - val_acc: 0.8608\n",
      "Epoch 23/40\n",
      "15000/15000 [==============================] - 1s 47us/step - loss: 0.3173 - acc: 0.8919 - val_loss: 0.3572 - val_acc: 0.8637\n",
      "Epoch 24/40\n",
      "15000/15000 [==============================] - 1s 46us/step - loss: 0.3047 - acc: 0.8945 - val_loss: 0.3483 - val_acc: 0.8658\n",
      "Epoch 25/40\n",
      "15000/15000 [==============================] - 1s 47us/step - loss: 0.2934 - acc: 0.8987 - val_loss: 0.3407 - val_acc: 0.8684\n",
      "Epoch 26/40\n",
      "15000/15000 [==============================] - 1s 46us/step - loss: 0.2831 - acc: 0.9017 - val_loss: 0.3343 - val_acc: 0.8710\n",
      "Epoch 27/40\n",
      "15000/15000 [==============================] - 1s 46us/step - loss: 0.2740 - acc: 0.9035 - val_loss: 0.3285 - val_acc: 0.8728\n",
      "Epoch 28/40\n",
      "15000/15000 [==============================] - 1s 46us/step - loss: 0.2649 - acc: 0.9075 - val_loss: 0.3229 - val_acc: 0.8738\n",
      "Epoch 29/40\n",
      "15000/15000 [==============================] - 1s 52us/step - loss: 0.2568 - acc: 0.9092 - val_loss: 0.3187 - val_acc: 0.8744\n",
      "Epoch 30/40\n",
      "15000/15000 [==============================] - 1s 54us/step - loss: 0.2500 - acc: 0.9110 - val_loss: 0.3144 - val_acc: 0.8753\n",
      "Epoch 31/40\n",
      "15000/15000 [==============================] - 1s 52us/step - loss: 0.2422 - acc: 0.9146 - val_loss: 0.3110 - val_acc: 0.8779\n",
      "Epoch 32/40\n",
      "15000/15000 [==============================] - 1s 48us/step - loss: 0.2361 - acc: 0.9151 - val_loss: 0.3078 - val_acc: 0.8785\n",
      "Epoch 33/40\n",
      "15000/15000 [==============================] - 1s 54us/step - loss: 0.2290 - acc: 0.9195 - val_loss: 0.3050 - val_acc: 0.8787\n",
      "Epoch 34/40\n",
      "15000/15000 [==============================] - 1s 77us/step - loss: 0.2232 - acc: 0.9213 - val_loss: 0.3026 - val_acc: 0.8791\n",
      "Epoch 35/40\n",
      "15000/15000 [==============================] - 1s 66us/step - loss: 0.2179 - acc: 0.9234 - val_loss: 0.3001 - val_acc: 0.8804\n",
      "Epoch 36/40\n",
      "15000/15000 [==============================] - 1s 67us/step - loss: 0.2119 - acc: 0.9257 - val_loss: 0.2983 - val_acc: 0.8800\n",
      "Epoch 37/40\n",
      "15000/15000 [==============================] - 1s 66us/step - loss: 0.2067 - acc: 0.9282 - val_loss: 0.2967 - val_acc: 0.8810\n",
      "Epoch 38/40\n",
      "15000/15000 [==============================] - 1s 63us/step - loss: 0.2019 - acc: 0.9291 - val_loss: 0.2946 - val_acc: 0.8807\n",
      "Epoch 39/40\n",
      "15000/15000 [==============================] - 1s 65us/step - loss: 0.1967 - acc: 0.9317 - val_loss: 0.2934 - val_acc: 0.8813\n",
      "Epoch 40/40\n",
      "15000/15000 [==============================] - 1s 61us/step - loss: 0.1921 - acc: 0.9335 - val_loss: 0.2919 - val_acc: 0.8821\n"
     ]
    }
   ],
   "source": [
    "history = model.fit(partial_x_train,\n",
    "                    partial_y_train,\n",
    "                    epochs=40,\n",
    "                    batch_size=512,\n",
    "                    validation_data=(x_val, y_val),\n",
    "                    verbose=1)"
   ]
  },
  {
   "cell_type": "code",
   "execution_count": 17,
   "metadata": {},
   "outputs": [
    {
     "name": "stdout",
     "output_type": "stream",
     "text": [
      "25000/25000 [==============================] - 1s 31us/step\n"
     ]
    }
   ],
   "source": [
    "results = model.evaluate(test_data, test_labels)"
   ]
  },
  {
   "cell_type": "code",
   "execution_count": 29,
   "metadata": {},
   "outputs": [
    {
     "name": "stdout",
     "output_type": "stream",
     "text": [
      "Model Accuracy: 87.53 %\n"
     ]
    }
   ],
   "source": [
    "print 'Model Accuracy:', str(round(results[1]*100, 2)), '%'"
   ]
  },
  {
   "cell_type": "code",
   "execution_count": null,
   "metadata": {
    "collapsed": true
   },
   "outputs": [],
   "source": []
  }
 ],
 "metadata": {
  "kernelspec": {
   "display_name": "Python 2",
   "language": "python",
   "name": "python2"
  },
  "language_info": {
   "codemirror_mode": {
    "name": "ipython",
    "version": 2
   },
   "file_extension": ".py",
   "mimetype": "text/x-python",
   "name": "python",
   "nbconvert_exporter": "python",
   "pygments_lexer": "ipython2",
   "version": "2.7.13"
  }
 },
 "nbformat": 4,
 "nbformat_minor": 2
}
